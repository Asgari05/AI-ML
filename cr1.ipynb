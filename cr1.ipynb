{
 "cells": [
  {
   "cell_type": "code",
   "execution_count": 1,
   "id": "9c8dc51a-875b-4352-96d6-56b529fe8a59",
   "metadata": {},
   "outputs": [],
   "source": [
    "import numpy as np"
   ]
  },
  {
   "cell_type": "code",
   "execution_count": 6,
   "id": "c48a0d15-25cc-4c13-a967-c8dc1aea59d2",
   "metadata": {},
   "outputs": [
    {
     "name": "stdin",
     "output_type": "stream",
     "text": [
      "enter number of test cases 1\n",
      "Enter the student IDs separated by space:  12 24 45 56  667\n"
     ]
    },
    {
     "name": "stdout",
     "output_type": "stream",
     "text": [
      "[False False False False False]\n"
     ]
    }
   ],
   "source": [
    "\n",
    "def mark_duplicates(ids):\n",
    "    seen = set()\n",
    "    result = []\n",
    "    for id in ids:\n",
    "        if id in seen:\n",
    "            result.append(True)\n",
    "        else:\n",
    "            seen.add(id)\n",
    "            result.append(False)\n",
    "    return np.array(result)\n",
    "\n",
    "t = int(input(\"enter number of test cases\"))\n",
    "\n",
    "for _ in range(t):\n",
    "    input_str = input(\"Enter the student IDs separated by space: \")\n",
    "    ids = np.array(list(map(int, input_str.strip().split())))\n",
    "\n",
    "    print(mark_duplicates(ids))"
   ]
  },
  {
   "cell_type": "code",
   "execution_count": 5,
   "id": "47b8cacc-d177-432b-9666-a88a195d4c63",
   "metadata": {},
   "outputs": [
    {
     "name": "stdin",
     "output_type": "stream",
     "text": [
      "enter number of test cases 1\n"
     ]
    }
   ],
   "source": []
  },
  {
   "cell_type": "code",
   "execution_count": null,
   "id": "b5e150b7-c49d-4e8f-b5b8-f3da39af7e14",
   "metadata": {},
   "outputs": [],
   "source": [
    "\n"
   ]
  },
  {
   "cell_type": "code",
   "execution_count": null,
   "id": "d50b3f3b-4ec8-4c13-8f19-0a05bd1ed52a",
   "metadata": {},
   "outputs": [],
   "source": []
  }
 ],
 "metadata": {
  "kernelspec": {
   "display_name": "Python 3 (ipykernel)",
   "language": "python",
   "name": "python3"
  },
  "language_info": {
   "codemirror_mode": {
    "name": "ipython",
    "version": 3
   },
   "file_extension": ".py",
   "mimetype": "text/x-python",
   "name": "python",
   "nbconvert_exporter": "python",
   "pygments_lexer": "ipython3",
   "version": "3.13.5"
  }
 },
 "nbformat": 4,
 "nbformat_minor": 5
}
