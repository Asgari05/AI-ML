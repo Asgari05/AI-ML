{
 "cells": [
  {
   "cell_type": "code",
   "execution_count": 1,
   "id": "2bb9982d-ae83-4edb-acc5-568a53c47e65",
   "metadata": {},
   "outputs": [],
   "source": [
    "import mysql.connector\n",
    "import csv\n",
    "import datetime"
   ]
  },
  {
   "cell_type": "code",
   "execution_count": 4,
   "id": "b0ba7f60-7222-41b2-95fe-09fd5418d797",
   "metadata": {},
   "outputs": [
    {
     "name": "stdout",
     "output_type": "stream",
     "text": [
      "MySQL connection successful: True\n"
     ]
    }
   ],
   "source": [
    "mydb = mysql.connector.connect(\n",
    "    host='localhost',\n",
    "    user='root',\n",
    "    password='Asgari2006$#'# Replace with your password\n",
    ")\n",
    "\n",
    "print(\"MySQL connection successful:\", mydb.is_connected())"
   ]
  },
  {
   "cell_type": "code",
   "execution_count": 5,
   "id": "80023e2d-cb74-4aee-a874-d310e6895247",
   "metadata": {},
   "outputs": [
    {
     "name": "stdout",
     "output_type": "stream",
     "text": [
      "Database and table created successfully.\n"
     ]
    }
   ],
   "source": [
    "cursor = mydb.cursor()\n",
    "\n",
    "# Create database\n",
    "cursor.execute(\"CREATE DATABASE IF NOT EXISTS employee\")\n",
    "\n",
    "# Select the new database\n",
    "cursor.execute(\"USE employee\")\n",
    "\n",
    "# Create the salary table\n",
    "cursor.execute(\"\"\"\n",
    "    CREATE TABLE IF NOT EXISTS salary (\n",
    "        empid INT,\n",
    "        firstname VARCHAR(100),\n",
    "        lastname VARCHAR(100),\n",
    "        email VARCHAR(50),\n",
    "        phone VARCHAR(15),\n",
    "        hire_date DATE,\n",
    "        job_id VARCHAR(15),\n",
    "        salary INT\n",
    "    )\n",
    "\"\"\")\n",
    "\n",
    "print(\"Database and table created successfully.\")"
   ]
  },
  {
   "cell_type": "code",
   "execution_count": null,
   "id": "2b688ec4-c8ef-49e9-83a7-5ae862d085f1",
   "metadata": {},
   "outputs": [],
   "source": []
  }
 ],
 "metadata": {
  "kernelspec": {
   "display_name": "Python 3 (ipykernel)",
   "language": "python",
   "name": "python3"
  },
  "language_info": {
   "codemirror_mode": {
    "name": "ipython",
    "version": 3
   },
   "file_extension": ".py",
   "mimetype": "text/x-python",
   "name": "python",
   "nbconvert_exporter": "python",
   "pygments_lexer": "ipython3",
   "version": "3.13.5"
  }
 },
 "nbformat": 4,
 "nbformat_minor": 5
}
